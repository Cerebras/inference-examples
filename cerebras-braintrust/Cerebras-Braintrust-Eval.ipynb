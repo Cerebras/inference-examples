{
 "cells": [
  {
   "cell_type": "markdown",
   "metadata": {},
   "source": [
    "# Logging, evaluating, and tracing Cerebras models with Braintrust\n",
    "\n",
    "## Setup\n",
    "\n",
    "Let's install some dependencies.\n"
   ]
  },
  {
   "cell_type": "markdown",
   "metadata": {},
   "source": [
    "%pip install autoevals braintrust openai\n"
   ]
  },
  {
   "cell_type": "markdown",
   "metadata": {},
   "source": [
    "Braintrust knows how to intercept calls to the `openai` client library to automatically trace them. Since Cerebras has an OpenAI-compatible API, it's a breeze to set this up!\n"
   ]
  },
  {
   "cell_type": "code",
   "execution_count": 1,
   "metadata": {},
   "outputs": [],
   "source": [
    "import os\n",
    "\n",
    "import openai\n",
    "import braintrust\n",
    "\n",
    "client = braintrust.wrap_openai(\n",
    "    openai.OpenAI(\n",
    "        api_key=os.getenv(\"CEREBRAS_API_KEY\"),\n",
    "        base_url=\"https://api.cerebras.ai/v1\",\n",
    "    )\n",
    ")"
   ]
  },
  {
   "cell_type": "markdown",
   "metadata": {},
   "source": [
    "## Logging\n",
    "\n",
    "To log to Braintrust, simply initialize a logger. All Cerebras model calls will be automatically traced and logged to Braintrust. This works for both streaming and non-streaming calls.\n"
   ]
  },
  {
   "cell_type": "code",
   "execution_count": 3,
   "metadata": {},
   "outputs": [
    {
     "name": "stdout",
     "output_type": "stream",
     "text": [
      "The capital of Nevada is Carson City.\n"
     ]
    }
   ],
   "source": [
    "braintrust.init_logger(\"Cerebras test\")\n",
    "\n",
    "response = client.chat.completions.create(\n",
    "    model=\"llama3.1-8b\",\n",
    "    messages=[\n",
    "        {\"role\": \"system\", \"content\": \"You are a helpful assistant.\"},\n",
    "        {\"role\": \"user\", \"content\": \"What is the capital of the Nevada?\"},\n",
    "    ],\n",
    ")\n",
    "\n",
    "print(response.choices[0].message.content)"
   ]
  },
  {
   "cell_type": "markdown",
   "metadata": {},
   "source": [
    "In Braintrust, we'll see the completion along with a bunch of metrics. Wow, Cerebras is fast!\n",
    "\n",
    "![Log view](./assets/Log-view.png)\n"
   ]
  },
  {
   "cell_type": "markdown",
   "metadata": {},
   "source": [
    "If you enter your Cerebras API key in Braintrust (under Settings -> AI providers), you can also reproduce the call in the UI, and even tweak the prompt!\n",
    "\n",
    "![Tweak prompt](./assets/Tweak-prompt.gif)\n",
    "\n",
    "## Evaluating\n",
    "\n",
    "Evals automatically support Cerebras models as well. Let's run a simple math test eval and see how it does.\n"
   ]
  }
 ],
 "metadata": {
  "kernelspec": {
   "display_name": ".venv",
   "language": "python",
   "name": "python3"
  },
  "language_info": {
   "codemirror_mode": {
    "name": "ipython",
    "version": 3
   },
   "file_extension": ".py",
   "mimetype": "text/x-python",
   "name": "python",
   "nbconvert_exporter": "python",
   "pygments_lexer": "ipython3",
   "version": "3.12.4"
  }
 },
 "nbformat": 4,
 "nbformat_minor": 2
}
